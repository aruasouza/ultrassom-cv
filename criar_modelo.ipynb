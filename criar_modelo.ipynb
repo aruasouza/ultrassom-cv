{
 "cells": [
  {
   "cell_type": "code",
   "execution_count": 1,
   "metadata": {},
   "outputs": [],
   "source": [
    "import cv2\n",
    "import numpy as np\n",
    "import pandas as pd\n",
    "import matplotlib.pyplot as plt\n",
    "from skimage.measure import label,regionprops\n",
    "import os\n",
    "from numba import jit\n",
    "from sklearn.cluster import KMeans"
   ]
  },
  {
   "cell_type": "code",
   "execution_count": 2,
   "metadata": {},
   "outputs": [
    {
     "data": {
      "text/plain": [
       "1588"
      ]
     },
     "execution_count": 2,
     "metadata": {},
     "output_type": "execute_result"
    }
   ],
   "source": [
    "colors = {'artery':np.array([255,0,0]),\n",
    "          'liver':np.array([255,0,255]),\n",
    "          'stomach':np.array([0,255,0]),\n",
    "          'vein':np.array([0,0,255])}\n",
    "folder = 'ARRAY_FORMAT'\n",
    "data_files = [os.path.join(folder,name) for name in os.listdir(folder)]\n",
    "ORGAOS = ['artery', 'liver', 'stomach', 'vein']\n",
    "len(data_files)"
   ]
  },
  {
   "cell_type": "code",
   "execution_count": 3,
   "metadata": {},
   "outputs": [],
   "source": [
    "def load(name):\n",
    "    data = np.load(name,allow_pickle=True).flatten()[0]\n",
    "    img = data['image']\n",
    "    structures = data['structures']\n",
    "    if len(img.shape) == 3:\n",
    "        img = img[:,:,0]\n",
    "    return img,structures\n",
    "\n",
    "def detect_main_area(img):\n",
    "    mask = (img > 0).astype('uint8')\n",
    "    kernel = cv2.getStructuringElement(cv2.MORPH_ELLIPSE,(25,25))\n",
    "    mask = cv2.erode(mask,kernel,iterations = 1)\n",
    "    mask = cv2.dilate(mask,kernel,iterations = 1)\n",
    "    kernel = cv2.getStructuringElement(cv2.MORPH_ELLIPSE,(95,95))\n",
    "    mask = cv2.dilate(mask,kernel,iterations = 1)\n",
    "    mask = cv2.erode(mask,kernel,iterations = 1)\n",
    "    objetos = label(mask)\n",
    "    info = regionprops(objetos)\n",
    "    main_label = max(info,key = lambda x: x['area'])['label']\n",
    "    return objetos == main_label\n",
    "\n",
    "def clean(img):\n",
    "    return (img * (detect_main_area(img))).astype('uint8')\n",
    "\n",
    "def create_reshape(img_clean):\n",
    "    img = img_clean\n",
    "    arx = np.arange(img.shape[1])\n",
    "    ary = np.arange(img.shape[0])\n",
    "    min_y = min(ary,key = lambda x: np.inf if (img[x] == 0).all() else x)\n",
    "    max_y = max(ary,key = lambda x: 0 if (img[x] == 0).all() else x)\n",
    "    min_x = min(arx,key = lambda x: np.inf if (img[:,x] == 0).all() else x)\n",
    "    max_x = max(arx,key = lambda x: 0 if (img[:,x] == 0).all() else x)\n",
    "    min_x_top = min(arx,key = lambda x: np.inf if img[min_y + 10,x] == 0 else x)\n",
    "    max_x_top = max(arx,key = lambda x: 0 if img[min_y + 10,x] == 0 else x)\n",
    "    dis_left = min_x_top - min_x\n",
    "    dis_right = max_x - max_x_top\n",
    "    if dis_left > dis_right:\n",
    "        max_x = min(max_x_top + dis_left,img.shape[1] - 1)\n",
    "    if dis_left < dis_right:\n",
    "        min_x = max(min_x_top - dis_right,0)\n",
    "    max_x = max_x - min_x\n",
    "    max_y = max_y - min_y\n",
    "    return (min_y,max_y,min_x,max_x)\n",
    "\n",
    "@jit(nopython = True)\n",
    "def transform(imagem,scaler):\n",
    "    newshape = 192,256\n",
    "    newimagem = np.zeros(newshape,'uint8')\n",
    "    for y in range(newshape[0]):\n",
    "        for x in range(newshape[1]):\n",
    "            ny,nx = int((y / newshape[0]) * scaler[1] + scaler[0]),int((x / newshape[1]) * scaler[3] + scaler[2])\n",
    "            newimagem[y,x] = imagem[ny,nx]\n",
    "    return newimagem\n",
    "\n",
    "def transform_struc(structures,scaler):\n",
    "    resh = {}\n",
    "    for key in structures:\n",
    "        resh[key] = transform(structures[key],scaler)\n",
    "    return resh\n",
    "\n",
    "def reduce(img):\n",
    "    n = 30\n",
    "    return img[n:-n,n:-n].copy()\n",
    "\n",
    "def reduce_struc(structures):\n",
    "    red = {}\n",
    "    for key in structures:\n",
    "        red[key] = reduce(structures[key])\n",
    "    return red\n",
    "\n",
    "_ = transform(np.zeros((10,10)),(0,0,0,0))"
   ]
  },
  {
   "cell_type": "code",
   "execution_count": 4,
   "metadata": {},
   "outputs": [
    {
     "name": "stdout",
     "output_type": "stream",
     "text": [
      "Files: 1587\r"
     ]
    }
   ],
   "source": [
    "linear = {}\n",
    "for j,file in enumerate(data_files):\n",
    "    img,structures = load(file)\n",
    "    cleaned = clean(img)\n",
    "    scaler = create_reshape(cleaned)\n",
    "    tstruc = transform_struc(structures,scaler)\n",
    "    rstruc = reduce_struc(tstruc)\n",
    "    size = rstruc[list(rstruc.keys())[0]].shape\n",
    "    arr = np.zeros((size[0] + size[1]) * 4,'uint8')\n",
    "    i = 0\n",
    "    for key in ORGAOS:\n",
    "        if key not in rstruc:\n",
    "            i += size[0] + size[1]\n",
    "            continue\n",
    "        labels = rstruc[key]\n",
    "        arr[i:i + size[1]] = labels.any(axis = 0)\n",
    "        i += size[1]\n",
    "        arr[i:i + size[0]] = labels.any(axis = 1)\n",
    "        i += size[0]\n",
    "    linear[file] = arr\n",
    "    print('Files:',j,end = '\\r')"
   ]
  },
  {
   "cell_type": "code",
   "execution_count": 13,
   "metadata": {},
   "outputs": [],
   "source": [
    "linear_data = pd.DataFrame(linear.values(),index = linear.keys())\n",
    "nclusters = 3\n",
    "kmeans = KMeans(n_clusters = nclusters, random_state = 0,n_init = \"auto\").fit(linear_data.values)\n",
    "clusters = pd.Series(kmeans.labels_,linear.keys())\n"
   ]
  },
  {
   "cell_type": "code",
   "execution_count": 14,
   "metadata": {},
   "outputs": [
    {
     "data": {
      "image/png": "[encoded data removed]",
      "text/plain": [
       "<Figure size 1000x600 with 1 Axes>"
      ]
     },
     "metadata": {},
     "output_type": "display_data"
    }
   ],
   "source": [
    "cluster_counts = clusters.value_counts().sort_index()\n",
    "\n",
    "plt.figure(figsize=(10, 6))\n",
    "plt.bar(cluster_counts.index, cluster_counts.values, color='blue')\n",
    "\n",
    "plt.xlabel('Cluster')\n",
    "plt.ylabel('Número de Imagens')\n",
    "plt.title('Número de Imagens Classificadas em Cada Cluster')\n",
    "\n",
    "\n",
    "for i, count in enumerate(cluster_counts.values):\n",
    "    plt.text(i, count + 0.5, str(count), ha='center', va='bottom')\n",
    "\n",
    "plt.tight_layout()\n",
    "plt.show()"
   ]
  },
  {
   "cell_type": "markdown",
   "metadata": {},
   "source": [
    "### Criação dos templates Model_2 - usando cosseno de similaridade"
   ]
  },
  {
   "cell_type": "code",
   "execution_count": 15,
   "metadata": {},
   "outputs": [
    {
     "name": "stdout",
     "output_type": "stream",
     "text": [
      "Files: 1587\r"
     ]
    }
   ],
   "source": [
    "classes = {}\n",
    "templates = {}\n",
    "i = 0\n",
    "\n",
    "for cl in clusters.unique():\n",
    "    size = len(clusters[clusters == cl])\n",
    "    gray_value = size\n",
    "    mod = np.full((132, 196), gray_value, dtype='uint64')\n",
    "    templates[cl] = {org:np.zeros((132, 196),'uint64') for org in ORGAOS}\n",
    "             \n",
    "    \n",
    "    for name in clusters[clusters == cl].index:\n",
    "        img,structures = load(name)\n",
    "        cleaned = clean(img)\n",
    "        scaler = create_reshape(cleaned)\n",
    "        tstruc = transform_struc(structures,scaler)\n",
    "        rstruc = reduce_struc(tstruc)\n",
    "        for key in ['artery', 'stomach', 'vein']:\n",
    "            if key not in rstruc:\n",
    "                continue\n",
    "            mod -= rstruc[key]\n",
    "            templates[cl][key] += rstruc[key]\n",
    "                     \n",
    "        if 'liver' in rstruc:\n",
    "                   \n",
    "            templates[cl]['liver'] += rstruc['liver']\n",
    "            \n",
    "            pass\n",
    "        print('Files:',i,end = '\\r')\n",
    "        i += 1\n",
    "    \n",
    "    \n",
    "    classes[cl] = mod / size\n",
    "    \n",
    "    for key in ORGAOS:\n",
    "        templates[cl][key] = templates[cl][key] / size"
   ]
  },
  {
   "cell_type": "code",
   "execution_count": 16,
   "metadata": {},
   "outputs": [],
   "source": [
    "for cl in clusters.unique():\n",
    "    cv2.imwrite(os.path.join('MODEL_c/classes',f'{cl}.png'),classes[cl]*127)\n",
    "    for key in templates[cl]:\n",
    "        cv2.imwrite(os.path.join('MODEL_c/templates',key,f'{cl}.png'),templates[cl][key]*255)"
   ]
  },
  {
   "cell_type": "markdown",
   "metadata": {},
   "source": [
    "### Criação dos templates Model - usando score por subtração"
   ]
  },
  {
   "cell_type": "code",
   "execution_count": 17,
   "metadata": {},
   "outputs": [
    {
     "name": "stdout",
     "output_type": "stream",
     "text": [
      "Files: 1587\r"
     ]
    }
   ],
   "source": [
    "classes = {}\n",
    "templates = {}\n",
    "i = 0\n",
    "for cl in clusters.unique():\n",
    "    mod = np.zeros((132, 196),'uint64')\n",
    "    templates[cl] = {org:np.zeros((132, 196),'uint64') for org in ORGAOS}\n",
    "    for name in clusters[clusters == cl].index:\n",
    "        img,structures = load(name)\n",
    "        cleaned = clean(img)\n",
    "        scaler = create_reshape(cleaned)\n",
    "        tstruc = transform_struc(structures,scaler)\n",
    "        rstruc = reduce_struc(tstruc)\n",
    "        for key in ['artery', 'stomach', 'vein']:\n",
    "            if key not in rstruc:\n",
    "                continue\n",
    "            mod += rstruc[key]\n",
    "            templates[cl][key] += rstruc[key]\n",
    "        if 'liver' in rstruc:\n",
    "            templates[cl]['liver'] += rstruc['liver']\n",
    "        print('Files:',i,end = '\\r')\n",
    "        i += 1\n",
    "    size = len(clusters[clusters == cl])\n",
    "    classes[cl] = mod / size\n",
    "    for key in ORGAOS:\n",
    "        templates[cl][key] = templates[cl][key] / size"
   ]
  },
  {
   "cell_type": "code",
   "execution_count": 18,
   "metadata": {},
   "outputs": [],
   "source": [
    "for cl in clusters.unique():\n",
    "    cv2.imwrite(os.path.join('MODEL/classes',f'{cl}.png'),classes[cl] * 255)\n",
    "    for key in templates[cl]:\n",
    "        cv2.imwrite(os.path.join('MODEL/templates',key,f'{cl}.png'),templates[cl][key] * 255)"
   ]
  }
 ],
 "metadata": {
  "kernelspec": {
   "display_name": "Python 3",
   "language": "python",
   "name": "python3"
  },
  "language_info": {
   "codemirror_mode": {
    "name": "ipython",
    "version": 3
   },
   "file_extension": ".py",
   "mimetype": "text/x-python",
   "name": "python",
   "nbconvert_exporter": "python",
   "pygments_lexer": "ipython3",
   "version": "3.10.12"
  }
 },
 "nbformat": 4,
 "nbformat_minor": 2
}
